{
 "cells": [
  {
   "cell_type": "markdown",
   "metadata": {},
   "source": [
    "# Transfer Learning And Data Augmentation\n",
    "\n",
    "In this tutorial, we will learn how to apply fine-tuning and feature extraction with pre-trained models, and how to augment data when training dataset is small. \n",
    "\n",
    "This tutorial is adapted from [this](https://pytorch.org/tutorials/beginner/transfer_learning_tutorial.html) and [this](https://pytorch.org/tutorials/beginner/finetuning_torchvision_models_tutorial.html).\n",
    "\n",
    "When the training dataset in the task is small, transfer learning usually performs better than training from scratch. There are two major transfer learning ways as follows:\n",
    "\n",
    "__Fine-tuning__ vs. __Feature extraction__\n",
    "\n",
    "- Similarity: to initialize the model with a pre-trained one's parameters for our new task\n",
    "\n",
    "- Difference: to update the whole model vs. to only update the final predictive layer(s)\n",
    "\n",
    "\n",
    "For more details about transfer learning, see [here](https://cs231n.github.io/transfer-learning/)."
   ]
  },
  {
   "cell_type": "code",
   "execution_count": null,
   "metadata": {},
   "outputs": [],
   "source": [
    "import os\n",
    "from pathlib import Path\n",
    "\n",
    "os.environ[\"CUDA_DEVICE_ORDER\"] = \"PCI_BUS_ID\" # so the IDs match nvidia-smi\n",
    "os.environ[\"CUDA_VISIBLE_DEVICES\"] = \"3\"       # eg. \"0, 1, 2\" for multiple\n",
    "\n",
    "DATA_ROOT = '/data1/cifar/'\n",
    "DEVICE = 'cuda:0'\n",
    "BATCH_SIZE = 16\n",
    "VAL_BATCH_SIZE = 128\n",
    "TRAINSET_SIZE = 250\n",
    "NUM_EPOCHS = 15\n",
    "MODEL_NAME = \"resnet\"     # Models to choose from [resnet, alexnet, vgg, squeezenet, densenet, inception]"
   ]
  },
  {
   "cell_type": "code",
   "execution_count": null,
   "metadata": {},
   "outputs": [],
   "source": [
    "class_names = ('plane', 'car', 'bird', 'cat', 'deer', 'dog', 'frog', 'horse', 'ship', 'truck') # tuple(range(10))\n",
    "num_classes = 10"
   ]
  },
  {
   "cell_type": "code",
   "execution_count": null,
   "metadata": {},
   "outputs": [],
   "source": [
    "%matplotlib inline\n",
    "%config InlineBackend.figure_format = 'retina'\n",
    "\n",
    "import time\n",
    "import os\n",
    "import copy\n",
    "\n",
    "import numpy as np\n",
    "import matplotlib.pyplot as plt\n",
    "\n",
    "import torch\n",
    "import torch.nn as nn\n",
    "import torch.optim as optim\n",
    "from torch.optim import lr_scheduler\n",
    "import torchvision\n",
    "from torchvision import datasets, models, transforms\n",
    "\n",
    "plt.ion()\n",
    "device = torch.device(DEVICE if torch.cuda.is_available() else \"cpu\")"
   ]
  },
  {
   "cell_type": "markdown",
   "metadata": {},
   "source": [
    "## Initialize A Model\n",
    "\n",
    "- All of the torchvision models have been pretrained on the 1000-class Imagenet dataset.\n",
    "- Since each model architecture is different, we must make custom adjustments for each model.\n",
    "> Notice that inception_v3 requires the input size to be (299,299), whereas all of the other models expect (224,224)."
   ]
  },
  {
   "cell_type": "code",
   "execution_count": null,
   "metadata": {},
   "outputs": [],
   "source": [
    "models.resnet18()"
   ]
  },
  {
   "cell_type": "code",
   "execution_count": null,
   "metadata": {},
   "outputs": [],
   "source": [
    "models.alexnet()"
   ]
  },
  {
   "cell_type": "code",
   "execution_count": null,
   "metadata": {},
   "outputs": [],
   "source": [
    "def set_parameter_requires_grad(model, feature_extracting):\n",
    "    if feature_extracting:\n",
    "        for param in model.parameters():\n",
    "            param.requires_grad = False\n",
    "\n",
    "def initialize_model(model_name, num_classes, feature_extract=True, use_pretrained=True):\n",
    "    # Initialize these variables which will be set in this if statement. Each of these\n",
    "    #   variables is model specific.\n",
    "    model = None\n",
    "    input_size = 0\n",
    "\n",
    "    if model_name == \"resnet\":\n",
    "        \"\"\" Resnet18\n",
    "        \"\"\"\n",
    "        model = models.resnet18(pretrained=use_pretrained)\n",
    "        set_parameter_requires_grad(model, feature_extract)\n",
    "        num_ftrs = model.fc.in_features\n",
    "        model.fc = nn.Linear(num_ftrs, num_classes)\n",
    "        input_size = 224\n",
    "\n",
    "    elif model_name == \"alexnet\":\n",
    "        \"\"\" Alexnet\n",
    "        \"\"\"\n",
    "        model = models.alexnet(pretrained=use_pretrained)\n",
    "        set_parameter_requires_grad(model, feature_extract)\n",
    "        num_ftrs = model.classifier[6].in_features\n",
    "        model.classifier[6] = nn.Linear(num_ftrs, num_classes)\n",
    "        input_size = 224\n",
    "\n",
    "    elif model_name == \"vgg\":\n",
    "        \"\"\" VGG11_bn\n",
    "        \"\"\"\n",
    "        model = models.vgg11_bn(pretrained=use_pretrained)\n",
    "        set_parameter_requires_grad(model, feature_extract)\n",
    "        \n",
    "        # your codes #\n",
    "        \n",
    "        \n",
    "\n",
    "    elif model_name == \"squeezenet\":\n",
    "        \"\"\" Squeezenet\n",
    "        \"\"\"\n",
    "        model = models.squeezenet1_0(pretrained=use_pretrained)\n",
    "        set_parameter_requires_grad(model, feature_extract)\n",
    "        model.classifier[1] = nn.Conv2d(512, num_classes, kernel_size=(1,1), stride=(1,1))\n",
    "        model.num_classes = num_classes\n",
    "        input_size = 224\n",
    "\n",
    "    elif model_name == \"densenet\":\n",
    "        \"\"\" Densenet\n",
    "        \"\"\"\n",
    "        model = models.densenet121(pretrained=use_pretrained)\n",
    "        set_parameter_requires_grad(model, feature_extract)\n",
    "        num_ftrs = model.classifier.in_features\n",
    "        model.classifier = nn.Linear(num_ftrs, num_classes)\n",
    "        input_size = 224\n",
    "\n",
    "    elif model_name == \"inception\":\n",
    "        \"\"\" Inception v3\n",
    "        Be careful, expects (299,299) sized images and has auxiliary output\n",
    "        \"\"\"\n",
    "        model = models.inception_v3(pretrained=use_pretrained)\n",
    "        set_parameter_requires_grad(model, feature_extract)\n",
    "        # Handle the auxilary net\n",
    "        num_ftrs = model.AuxLogits.fc.in_features\n",
    "        model.AuxLogits.fc = nn.Linear(num_ftrs, num_classes)\n",
    "        # Handle the primary net\n",
    "        num_ftrs = model.fc.in_features\n",
    "        model.fc = nn.Linear(num_ftrs,num_classes)\n",
    "        input_size = 299\n",
    "\n",
    "    else:\n",
    "        print(\"Invalid model name, exiting...\")\n",
    "        exit()\n",
    "\n",
    "    return model, input_size"
   ]
  },
  {
   "cell_type": "code",
   "execution_count": null,
   "metadata": {},
   "outputs": [],
   "source": [
    "\n",
    "# Initialize a fine-tuning model\n",
    "model_ft, input_size = initialize_model(MODEL_NAME, num_classes, feature_extract=False, use_pretrained=True)\n",
    "\n",
    "# # Print the model we just instantiated\n",
    "print(model_ft)"
   ]
  },
  {
   "cell_type": "markdown",
   "metadata": {},
   "source": [
    "## Load Data\n",
    "\n",
    "In Pytorch,\n",
    "\n",
    ">All pre-trained models expect input images normalized in the same way... The images have to be loaded in to a range of [0, 1] and then normalized using mean = [0.485, 0.456, 0.406] and std = [0.229, 0.224, 0.225]. "
   ]
  },
  {
   "cell_type": "code",
   "execution_count": null,
   "metadata": {},
   "outputs": [],
   "source": [
    "mean = [0.485, 0.456, 0.406]\n",
    "std = [0.229, 0.224, 0.225]\n",
    "\n",
    "data_transforms = {\n",
    "    'train': transforms.Compose([\n",
    "        transforms.Resize(input_size),\n",
    "        transforms.CenterCrop(input_size),\n",
    "        transforms.ToTensor(),\n",
    "        transforms.Normalize(mean, std),\n",
    "#         transforms.Lambda(lambda t: t.expand(3, -1, -1))             # for grayscale dataset, eg. MNIST\n",
    "    ]),\n",
    "    'val': transforms.Compose([\n",
    "        transforms.Resize(input_size),\n",
    "        transforms.CenterCrop(input_size),\n",
    "        transforms.ToTensor(),\n",
    "        transforms.Normalize(mean, std),\n",
    "#         transforms.Lambda(lambda t: t.expand(3, -1, -1))\n",
    "    ]),\n",
    "}\n",
    "\n",
    "# Create training and validation datasets\n",
    "image_datasets = {x: datasets.CIFAR10(DATA_ROOT, train=(x=='train'), transform=data_transforms[x])\n",
    "                  for x in ['train', 'val']}\n",
    "\n",
    "train_dataset, _ = torch.utils.data.random_split(image_datasets['train'], \n",
    "                                                 [TRAINSET_SIZE, len(image_datasets['train'])-TRAINSET_SIZE])\n",
    "\n",
    "dataloaders_dict = {\n",
    "    'train': torch.utils.data.DataLoader(train_dataset, \n",
    "                                         shuffle=True, batch_size=BATCH_SIZE, num_workers=4),\n",
    "    \n",
    "    'val': torch.utils.data.DataLoader(image_datasets['val'], shuffle=True,\n",
    "                                       batch_size=VAL_BATCH_SIZE, num_workers=4)\n",
    "}\n",
    "\n",
    "dataset_sizes = {\n",
    "    'train': TRAINSET_SIZE,\n",
    "    'val': len(image_datasets['val'])\n",
    "}\n"
   ]
  },
  {
   "cell_type": "code",
   "execution_count": null,
   "metadata": {},
   "outputs": [],
   "source": [
    "def imshow(inp, title=None):\n",
    "    \"\"\"Imshow for Tensor.\"\"\"\n",
    "    inp = inp.numpy().transpose((1, 2, 0))\n",
    "    inp = std * inp + mean\n",
    "    inp = np.clip(inp, 0, 1)\n",
    "    plt.imshow(inp)\n",
    "    plt.axis('off')\n",
    "    if title is not None:\n",
    "        plt.title(title)\n",
    "\n",
    "# Get a batch of training data\n",
    "inputs, classes = next(iter(dataloaders_dict['train']))\n",
    "\n",
    "# Make a grid from batch\n",
    "out = torchvision.utils.make_grid(inputs)\n",
    "\n",
    "plt.figure(figsize=(15, 5))\n",
    "imshow(out, title=[class_names[x] for x in classes])"
   ]
  },
  {
   "cell_type": "markdown",
   "metadata": {},
   "source": [
    "## Train A Model"
   ]
  },
  {
   "cell_type": "code",
   "execution_count": null,
   "metadata": {},
   "outputs": [],
   "source": [
    "def train(model, dataloaders, criterion, optimizer, scheduler=None, num_epochs=25, is_inception=False):\n",
    "    since = time.time()\n",
    "    \n",
    "    val_acc_history = []\n",
    "\n",
    "    best_model_wts = copy.deepcopy(model.state_dict())\n",
    "    best_acc = 0.0\n",
    "\n",
    "    for epoch in range(num_epochs):\n",
    "        print('Epoch {}/{}'.format(epoch, num_epochs - 1))\n",
    "        print('-' * 10)\n",
    "\n",
    "        # Each epoch has a training and validation phase\n",
    "        for phase in ['train', 'val']:\n",
    "            if phase == 'train':\n",
    "                if scheduler:\n",
    "                    scheduler.step()\n",
    "                model.train()  # Set model to training mode\n",
    "            else:\n",
    "                model.eval()   # Set model to evaluate mode\n",
    "\n",
    "            running_loss = 0.0\n",
    "            running_corrects = 0\n",
    "\n",
    "            # Iterate over data.\n",
    "            for inputs, labels in dataloaders[phase]:\n",
    "                inputs = inputs.to(device)\n",
    "                labels = labels.to(device)\n",
    "\n",
    "                # zero the parameter gradients\n",
    "                optimizer.zero_grad()\n",
    "\n",
    "                # forward\n",
    "                # track history if only in train\n",
    "                with torch.set_grad_enabled(phase == 'train'):\n",
    "                    # Get model outputs and calculate loss\n",
    "                    # Special case for inception because in training it has an auxiliary output. In train\n",
    "                    #   mode we calculate the loss by summing the final output and the auxiliary output\n",
    "                    #   but in testing we only consider the final output.\n",
    "                    if is_inception and phase == 'train':\n",
    "                        # From https://discuss.pytorch.org/t/how-to-optimize-inception-model-with-auxiliary-classifiers/7958\n",
    "                        outputs, aux_outputs = model(inputs)\n",
    "                        loss1 = criterion(outputs, labels)\n",
    "                        loss2 = criterion(aux_outputs, labels)\n",
    "                        loss = loss1 + 0.4*loss2\n",
    "                    else:\n",
    "                        outputs = model(inputs)\n",
    "                        loss = criterion(outputs, labels)\n",
    "                        \n",
    "                    _, preds = torch.max(outputs, 1)\n",
    "\n",
    "                    # backward + optimize only if in training phase\n",
    "                    if phase == 'train':\n",
    "                        loss.backward()\n",
    "                        optimizer.step()\n",
    "\n",
    "                # statistics\n",
    "                running_loss += float(loss) * inputs.size(0)\n",
    "                running_corrects += float(torch.sum(preds == labels.data))\n",
    "\n",
    "            epoch_loss = running_loss / dataset_sizes[phase]\n",
    "            epoch_acc = running_corrects / dataset_sizes[phase]\n",
    "\n",
    "            print('{} Loss: {:.4f} Acc: {:.4f}'.format(phase, epoch_loss, epoch_acc))\n",
    "\n",
    "            # deep copy the model\n",
    "            if phase == 'val' and epoch_acc > best_acc:\n",
    "                best_acc = epoch_acc\n",
    "                best_model_wts = copy.deepcopy(model.state_dict())\n",
    "            if phase == 'val':\n",
    "                val_acc_history.append(epoch_acc)\n",
    "\n",
    "        print()\n",
    "\n",
    "    time_elapsed = time.time() - since\n",
    "    print('Training complete in {:.0f}m {:.0f}s'.format(\n",
    "        time_elapsed // 60, time_elapsed % 60))\n",
    "    print('Best val Acc: {:4f}'.format(best_acc))\n",
    "\n",
    "    # load best model weights\n",
    "    model.load_state_dict(best_model_wts)\n",
    "    return model, val_acc_history"
   ]
  },
  {
   "cell_type": "markdown",
   "metadata": {},
   "source": [
    "## Update Necessary Parameters"
   ]
  },
  {
   "cell_type": "code",
   "execution_count": null,
   "metadata": {},
   "outputs": [],
   "source": [
    "# Gather the parameters to be optimized/updated in this run. If we are\n",
    "#  finetuning we will be updating all parameters. However, if we are\n",
    "#  doing feature extract method, we will only update the parameters\n",
    "#  that we have just initialized, i.e. the parameters with requires_grad\n",
    "#  is True.\n",
    "def get_params_to_update(model, feature_extract, print_params=True):\n",
    "    params_to_update = model.parameters()\n",
    "    print(\"Params to learn:\")\n",
    "    if feature_extract:\n",
    "        params_to_update = []\n",
    "        for name,param in model.named_parameters():\n",
    "            if param.requires_grad == True:\n",
    "                params_to_update.append(param)\n",
    "                if print_params: print(\"\\t\", name)\n",
    "    else:\n",
    "        for name,param in model.named_parameters():\n",
    "            if param.requires_grad == True:\n",
    "                if print_params: print(\"\\t\", name)\n",
    "                \n",
    "    return params_to_update"
   ]
  },
  {
   "cell_type": "code",
   "execution_count": null,
   "metadata": {},
   "outputs": [],
   "source": [
    "model_ft = model_ft.to(device)\n",
    "params_to_update_ft = get_params_to_update(model_ft, feature_extract=False)\n",
    "\n",
    "# Observe that all parameters are being optimized\n",
    "optimizer_ft = optim.SGD(params_to_update_ft, lr=0.001, momentum=0.9)\n",
    "# optimizer_ft = optim.Adam(params_to_update_ft, lr=0.001)\n",
    "# Decay LR by a factor of 0.1 every 7 epochs\n",
    "# exp_lr_scheduler_ft = lr_scheduler.StepLR(optimizer_ft, step_size=7, gamma=0.1)\n",
    "\n",
    "criterion = nn.CrossEntropyLoss()"
   ]
  },
  {
   "cell_type": "code",
   "execution_count": null,
   "metadata": {
    "scrolled": false
   },
   "outputs": [],
   "source": [
    "model_ft, hist_ft = train(model_ft, dataloaders_dict, criterion, optimizer_ft, # exp_lr_scheduler_ft,\n",
    "                          num_epochs=NUM_EPOCHS, is_inception=(MODEL_NAME==\"inception\"))"
   ]
  },
  {
   "cell_type": "code",
   "execution_count": null,
   "metadata": {},
   "outputs": [],
   "source": [
    "# Initialize a feature extraction model\n",
    "\n",
    "model_conv, _ = initialize_model(MODEL_NAME, num_classes, feature_extract=True, use_pretrained=True)\n",
    "model_conv = model_conv.to(device)\n",
    "\n",
    "params_to_update_conv = get_params_to_update(model_conv, feature_extract=True)\n",
    "\n",
    "# Observe that all parameters are being optimized\n",
    "optimizer_conv = optim.SGD(params_to_update_conv, lr=0.001, momentum=0.9)\n",
    "# optimizer_conv = optim.Adam(params_to_update_conv)\n",
    "\n",
    "# Decay LR by a factor of 0.1 every 7 epochs\n",
    "# exp_lr_scheduler_conv = lr_scheduler.StepLR(optimizer_conv, step_size=7, gamma=0.1)"
   ]
  },
  {
   "cell_type": "code",
   "execution_count": null,
   "metadata": {
    "scrolled": false
   },
   "outputs": [],
   "source": [
    "model_conv, hist_conv = train(model_conv, dataloaders_dict, criterion, optimizer_conv, # exp_lr_scheduler_conv,\n",
    "                       num_epochs=NUM_EPOCHS, is_inception=(MODEL_NAME==\"inception\"))"
   ]
  },
  {
   "cell_type": "markdown",
   "metadata": {},
   "source": [
    "## Comparison With Model Trained From Scratch"
   ]
  },
  {
   "cell_type": "code",
   "execution_count": null,
   "metadata": {
    "scrolled": false
   },
   "outputs": [],
   "source": [
    "# Initialize the non-pretrained version of the model\n",
    "model_scratch, _ = initialize_model(MODEL_NAME, num_classes, feature_extract=False, use_pretrained=False)\n",
    "model_scratch = model_scratch.to(device)\n",
    "optimizer_scratch = optim.SGD(model_scratch.parameters(), lr=0.001, momentum=0.9)\n",
    "# optimizer_scratch = optim.Adam(model_scratch.parameters())\n",
    "\n",
    "model_scratch, hist_scratch = train(model_scratch, dataloaders_dict, criterion, optimizer_scratch, \n",
    "                                    num_epochs=NUM_EPOCHS, is_inception=(MODEL_NAME==\"inception\"))\n",
    "\n"
   ]
  },
  {
   "cell_type": "code",
   "execution_count": null,
   "metadata": {},
   "outputs": [],
   "source": [
    "# Plot the training curves of validation accuracy vs. number\n",
    "#  of training epochs for the transfer learning method and\n",
    "#  the model trained from scratch\n",
    "plt.title(\"Validation Accuracy vs. Number of Training Epochs\")\n",
    "plt.xlabel(\"Training Epochs\")\n",
    "plt.ylabel(\"Validation Accuracy\")\n",
    "plt.plot(range(1, NUM_EPOCHS+1), hist_ft, label=\"Fine-tuning\")\n",
    "plt.plot(range(1, NUM_EPOCHS+1), hist_conv, label=\"Feature Extraction\")\n",
    "plt.plot(range(1, NUM_EPOCHS+1), hist_scratch, label=\"Scratch\")\n",
    "plt.ylim((0,1.))\n",
    "plt.xticks(np.arange(1, NUM_EPOCHS+1, 1.0))\n",
    "plt.legend()\n",
    "plt.show()"
   ]
  },
  {
   "cell_type": "markdown",
   "metadata": {},
   "source": [
    "## Data Augmentation\n",
    "\n",
    "We can augment the training data by using random transoformers in Pytorch."
   ]
  },
  {
   "cell_type": "code",
   "execution_count": null,
   "metadata": {},
   "outputs": [],
   "source": [
    "train_dataset.dataset.transform"
   ]
  },
  {
   "cell_type": "code",
   "execution_count": null,
   "metadata": {},
   "outputs": [],
   "source": [
    "da_transform = transforms.Compose([\n",
    "        transforms.RandomRotation(3),\n",
    "        transforms.RandomResizedCrop(input_size, scale=(0.9, 1), ratio=(4/5, 5/4)),\n",
    "        transforms.RandomHorizontalFlip(),\n",
    "        transforms.ToTensor(),\n",
    "        transforms.Normalize(mean, std),\n",
    "    ])"
   ]
  },
  {
   "cell_type": "code",
   "execution_count": null,
   "metadata": {},
   "outputs": [],
   "source": [
    "train_dataset.dataset.transform = da_transform\n",
    "train_dataset.dataset.transform"
   ]
  },
  {
   "cell_type": "code",
   "execution_count": null,
   "metadata": {},
   "outputs": [],
   "source": [
    "dataloaders_dict['train'] = torch.utils.data.DataLoader(train_dataset, shuffle=True, \n",
    "                                                        batch_size=BATCH_SIZE, num_workers=4)\n",
    "\n",
    "\n",
    "inputs, classes = next(iter(dataloaders_dict['train']))\n",
    "out = torchvision.utils.make_grid(inputs)\n",
    "\n",
    "plt.figure(figsize=(15, 5))\n",
    "imshow(out, title=[class_names[x] for x in classes])"
   ]
  },
  {
   "cell_type": "code",
   "execution_count": null,
   "metadata": {
    "scrolled": false
   },
   "outputs": [],
   "source": [
    "model_ft, input_size = initialize_model(MODEL_NAME, num_classes, feature_extract=False, use_pretrained=True)\n",
    "model_ft = model_ft.to(device)\n",
    "params_to_update_ft = get_params_to_update(model_ft, feature_extract=False, print_params=False)\n",
    "optimizer_ft = optim.SGD(params_to_update_ft, lr=0.001, momentum=0.9)\n",
    "model_ft, hist_ft = train(model_ft, dataloaders_dict, criterion, optimizer_ft,\n",
    "                          num_epochs=NUM_EPOCHS, is_inception=(MODEL_NAME==\"inception\"))\n",
    "\n",
    "model_conv, _ = initialize_model(MODEL_NAME, num_classes, feature_extract=True, use_pretrained=True)\n",
    "model_conv = model_conv.to(device)\n",
    "params_to_update_conv = get_params_to_update(model_conv, feature_extract=True, print_params=False)\n",
    "optimizer_conv = optim.SGD(params_to_update_conv, lr=0.001, momentum=0.9)\n",
    "model_conv, hist_conv = train(model_conv, dataloaders_dict, criterion, optimizer_conv,\n",
    "                       num_epochs=NUM_EPOCHS, is_inception=(MODEL_NAME==\"inception\"))\n",
    "\n",
    "model_scratch, _ = initialize_model(MODEL_NAME, num_classes, feature_extract=False, use_pretrained=False)\n",
    "model_scratch = model_scratch.to(device)\n",
    "optimizer_scratch = optim.SGD(model_scratch.parameters(), lr=0.001, momentum=0.9)\n",
    "model_scratch, hist_scratch = train(model_scratch, dataloaders_dict, criterion, optimizer_scratch, \n",
    "                                    num_epochs=NUM_EPOCHS, is_inception=(MODEL_NAME==\"inception\"))\n",
    "\n",
    "plt.title(\"Validation Accuracy vs. Number of Training Epochs\")\n",
    "plt.xlabel(\"Training Epochs\")\n",
    "plt.ylabel(\"Validation Accuracy\")\n",
    "plt.plot(range(1, NUM_EPOCHS+1), hist_ft, label=\"Fine-tuning\")\n",
    "plt.plot(range(1, NUM_EPOCHS+1), hist_conv, label=\"Feature Extraction\")\n",
    "plt.plot(range(1, NUM_EPOCHS+1), hist_scratch, label=\"Scratch\")\n",
    "plt.ylim((0,1.))\n",
    "plt.xticks(np.arange(1, NUM_EPOCHS+1, 1.0))\n",
    "plt.legend()\n",
    "plt.show()"
   ]
  },
  {
   "cell_type": "markdown",
   "metadata": {},
   "source": [
    "## Visualize The Predictive Results"
   ]
  },
  {
   "cell_type": "code",
   "execution_count": null,
   "metadata": {},
   "outputs": [],
   "source": [
    "def visualize(model, num_images=16, column=4, figsize=(8, 10)):\n",
    "    was_training = model.training\n",
    "    column = int(column)\n",
    "    model.eval()\n",
    "    images_so_far = 0\n",
    "    plt.figure(figsize=figsize)\n",
    "\n",
    "    with torch.no_grad():\n",
    "        for i, (inputs, labels) in enumerate(dataloaders_dict['val']):\n",
    "            inputs = inputs.to(device)\n",
    "            labels = labels.to(device)\n",
    "\n",
    "            outputs = model(inputs)\n",
    "            _, preds = torch.max(outputs, 1)\n",
    "\n",
    "            for j in range(inputs.size(0)):\n",
    "                images_so_far += 1\n",
    "                ax = plt.subplot(num_images//column, column, images_so_far)\n",
    "                ax.axis('off')\n",
    "                ax.set_title('predicted: {}'.format(class_names[preds[j]]))\n",
    "                imshow(inputs.cpu().data[j])\n",
    "\n",
    "                if images_so_far == num_images:\n",
    "                    model.train(mode=was_training)\n",
    "                    return\n",
    "    \n",
    "    model.train(mode=was_training)"
   ]
  },
  {
   "cell_type": "code",
   "execution_count": null,
   "metadata": {},
   "outputs": [],
   "source": [
    "visualize(model_ft)"
   ]
  },
  {
   "cell_type": "code",
   "execution_count": null,
   "metadata": {},
   "outputs": [],
   "source": [
    "visualize(model_conv)"
   ]
  },
  {
   "cell_type": "code",
   "execution_count": null,
   "metadata": {},
   "outputs": [],
   "source": [
    "visualize(model_scratch)"
   ]
  },
  {
   "cell_type": "code",
   "execution_count": null,
   "metadata": {},
   "outputs": [],
   "source": []
  }
 ],
 "metadata": {
  "hide_input": false,
  "kernelspec": {
   "display_name": "DLLecture",
   "language": "python",
   "name": "dllecture"
  },
  "language_info": {
   "codemirror_mode": {
    "name": "ipython",
    "version": 3
   },
   "file_extension": ".py",
   "mimetype": "text/x-python",
   "name": "python",
   "nbconvert_exporter": "python",
   "pygments_lexer": "ipython3",
   "version": "3.6.6"
  },
  "toc": {
   "nav_menu": {},
   "number_sections": true,
   "sideBar": true,
   "skip_h1_title": false,
   "toc_cell": false,
   "toc_position": {},
   "toc_section_display": "block",
   "toc_window_display": false
  }
 },
 "nbformat": 4,
 "nbformat_minor": 2
}
